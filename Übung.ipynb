{
 "cells": [
  {
   "cell_type": "markdown",
   "metadata": {},
   "source": [
    "Das beliebteste Einstiegsbeispiel der Informatik ist die Ausgabe eines \"Hello world!\" auf der Kommandozeile. In der nachfolgenden Zelle ist dieses kleine Programm für sie schon implementiert. Sie müssen nur noch die Zelle auswählen und auf RUN drücken. Voila sie haben ihr erstes kleines Programm ausgeführt. Was müssen sie nun ändern, dass nicht mehr \"Bitte ändere mich!\", sondern \"Hello world!\" ausgegeben wird?"
   ]
  },
  {
   "cell_type": "code",
   "execution_count": 1,
   "metadata": {},
   "outputs": [
    {
     "name": "stdout",
     "output_type": "stream",
     "text": [
      "Bitte ändere mich!\n"
     ]
    }
   ],
   "source": [
    "print(\"Bitte ändere mich!\")"
   ]
  },
  {
   "cell_type": "markdown",
   "metadata": {},
   "source": [
    "Nach diesem kleinen ersten Erfolg ist es Zeit ein Grundkonzept der Informatik kennenzulernen: Variablen! Das kommt ihnen wahrscheinlich aus dem Mathematikunterricht bekannt vor. Anstatt fester Werte werden Variablen übergeben, die beliebige Werte annehmen können. Variablen in Python folgen einer einfach Logik. Variablenname = Variablenwert. Wenn wir der Variable pi den Wert 3.1416 zuweisen wollen würde das wie folgt aussehen:\n",
    "\n",
    "pi = 3.1416\n",
    "\n",
    "Aufgabe 1: In unserem nächsten Beispiel wollen wir mit Hilfe von Variablen dieselbe Ausgabe (Wir erinnern uns an \"Hello world!\") erzeugen. Hier können sie auch gleich ihren ersten Punkt abholen."
   ]
  },
  {
   "cell_type": "code",
   "execution_count": 3,
   "metadata": {},
   "outputs": [
    {
     "name": "stdout",
     "output_type": "stream",
     "text": [
      "\n"
     ]
    }
   ],
   "source": [
    "variable = \"\"\n",
    "print(variable)"
   ]
  },
  {
   "cell_type": "markdown",
   "metadata": {},
   "source": [
    "Was ist wenn wir unser \"Hello world!\" nun aber öfter nutzen wollen und es aber nicht jedes mal ausschreiben wollen? Genau für diesen Fall gibt es Methoden. Methoden erleichtern den Programmierer Altag ungemein, da sie erstens erlauben bereits geschriebenen Code wieder zu benutzen und zweitens den Code auch besser lesbar zu machen. Methoden in Python folgen dem Muster def methoden_name():. Alles was daraufhin in den nächsten Zeilen eingerückt geschrieben wird gehört zu dieser Methode. Die Methode könnt ihr dann einfach ausführen indem ihr methoden_name() schreibt. Zum Beispiel ist auch das print das ihr für \"Hello world!\" benutzt habt eine dieser Methoden. Die hat aber freundlicherweise schon mal jemand für euch bereitgestellt. In der nächsten Zeile ist das \"Hello world!\" Programm als Methode implementiert und ihr könnt es durch drücken auf play mal ausführen."
   ]
  },
  {
   "cell_type": "code",
   "execution_count": 4,
   "metadata": {},
   "outputs": [],
   "source": [
    "#Methode die \"Hello world!\" ausgiebt.\n",
    "def print_hello_world():\n",
    "    print(\"Hello world!\")\n",
    "#Methodenaufruf  \n",
    "print_hello_world()"
   ]
  },
  {
   "cell_type": "markdown",
   "metadata": {},
   "source": [
    "Das ist natürlich nur ein einfaches Beispiel und kann noch beliebig komplex werden. Ihr könnt der Methode auch noch Werte übergeben, die ihr dann als Variablen innerhalb der Methode nutzen könnt. Diese Variablen nennt man dann Übergabeparameter und werden bei der Methodendefinition folgendermaßen deklariert: def methoden_name( Übergabeparameter). Bei mehr als eienm Übergabeparameter teilt ihr diese einfach durch Kommata. Beispielsweise könntet ihr \"Hello world!\" als Übergabeparameter für eure Methode nutzen, um eure print Methode für alle Möglichen Eingaben zu erweitern und so genereller zu gestallten. Schaut euch das nachfolgende Beispiel an und spielt gerne ein bisschen damit herum. Ihr werdet das Gelernte für deie Abschlussfrage brauchen."
   ]
  },
  {
   "cell_type": "code",
   "execution_count": null,
   "metadata": {},
   "outputs": [],
   "source": [
    "#Methode die einen Satz ausgibt der aus den beiden Teilen satzteil1 und satzteil2 besteht.\n",
    "def print_erweitert(satzteil1, satzteil2):\n",
    "    print(satzteil1 + \" \" + satzteil2)\n",
    "#Methodenaufruf\n",
    "print_erweitert(\"Hello\", \"world!\")"
   ]
  },
  {
   "cell_type": "markdown",
   "metadata": {},
   "source": [
    "Als finale Lektion für dieses Notebook lernt ihr noch wie eure Methode ein Ergebniss zurückgeben kann. Dies geschieht mit einem return statement innerhalb der Methode."
   ]
  },
  {
   "cell_type": "code",
   "execution_count": null,
   "metadata": {},
   "outputs": [],
   "source": [
    "#Methode die zwei Satzteile, nämlich satzteil1 und satzteil2 zu einem Satz zusammenfügt,\n",
    "#der durch ein Leerzeichen getrennt wird\n",
    "def zusammenfuegen(satzteil1, satzteil2):\n",
    "    return satzteil1 + \" \" + satzteil2\n",
    "#Methodenaufruf\n",
    "zusammengefuegterSatz = zusammenfuegen(\"Hello\", \"world!\")\n",
    "print(zusammengefuegterSatz)"
   ]
  },
  {
   "cell_type": "markdown",
   "metadata": {},
   "source": [
    "Aufgabe 2: Als kleines Beispiel fügen sie hier bitte den Code für eine einfache Addition ein. Zum Beispiel soll als Ergebnis von add(1,1), also 1+1, 2 zurück gegeben werden."
   ]
  },
  {
   "cell_type": "code",
   "execution_count": 17,
   "metadata": {},
   "outputs": [
    {
     "name": "stdout",
     "output_type": "stream",
     "text": [
      "\n"
     ]
    }
   ],
   "source": [
    "def add(x, y):\n",
    "#TODO: your code\n",
    "    result = \"\"\n",
    "    print(result)\n",
    "\n",
    "#Methodenaufruf\n",
    "add(1,2)"
   ]
  }
 ],
 "metadata": {
  "kernelspec": {
   "display_name": "Python 3",
   "language": "python",
   "name": "python3"
  },
  "language_info": {
   "codemirror_mode": {
    "name": "ipython",
    "version": 3
   },
   "file_extension": ".py",
   "mimetype": "text/x-python",
   "name": "python",
   "nbconvert_exporter": "python",
   "pygments_lexer": "ipython3",
   "version": "3.7.7"
  }
 },
 "nbformat": 4,
 "nbformat_minor": 4
}
