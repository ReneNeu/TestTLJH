{
 "cells": [
  {
   "cell_type": "markdown",
   "metadata": {
    "nbgrader": {
     "grade": false,
     "grade_id": "cell-aa4a39308e8ecf47",
     "locked": true,
     "schema_version": 3,
     "solution": false,
     "task": false
    }
   },
   "source": [
    "Das beliebteste Einstiegsbeispiel der Informatik ist die Ausgabe eines \"Hello world!\" auf der Kommandozeile. In der nachfolgenden Zelle ist dieses kleine Programm für sie schon implementiert. Sie müssen nur noch die Zelle auswählen und auf **RUN** drücken. Voila sie haben ihr erstes kleines Programm ausgeführt. Was müssen sie nun ändern, dass nicht mehr \"Bitte ändere mich!\", sondern \"Hello world!\" ausgegeben wird?"
   ]
  },
  {
   "cell_type": "code",
   "execution_count": 1,
   "metadata": {
    "nbgrader": {
     "grade": false,
     "grade_id": "cell-74bf3bb986b1e883",
     "locked": true,
     "schema_version": 3,
     "solution": false,
     "task": false
    }
   },
   "outputs": [
    {
     "name": "stdout",
     "output_type": "stream",
     "text": [
      "Bitte ändere mich!\n"
     ]
    }
   ],
   "source": [
    "print(\"Bitte ändere mich!\")"
   ]
  },
  {
   "cell_type": "markdown",
   "metadata": {
    "nbgrader": {
     "grade": false,
     "grade_id": "cell-07b151f0e6982625",
     "locked": true,
     "schema_version": 3,
     "solution": false,
     "task": false
    }
   },
   "source": [
    "Nach diesem kleinen ersten Erfolg ist es Zeit ein Grundkonzept der Informatik kennenzulernen: Variablen! Das kommt ihnen wahrscheinlich aus dem Mathematikunterricht bekannt vor. Anstatt fester Werte werden Variablen übergeben, die beliebige Werte annehmen können. Variablen in Python folgen einer einfach Logik. **Variablenname = Variablenwert**. Wenn wir der Variable pi den Wert 3.1416 zuweisen wollen würde das wie folgt aussehen:\n",
    "\n",
    "pi = 3.1416\n",
    "\n",
    "**Aufgabe 1:**\n",
    "In unserem nächsten Beispiel wollen wir mit Hilfe von Variablen dieselbe Ausgabe (Wir erinnern uns an \"Hello world!\") erzeugen. Hier können sie auch gleich ihren ersten Punkt abholen."
   ]
  },
  {
   "cell_type": "code",
   "execution_count": 4,
   "metadata": {
    "nbgrader": {
     "grade": false,
     "grade_id": "cell-4f6cd1f1f0fe6c0c",
     "locked": false,
     "schema_version": 3,
     "solution": true,
     "task": false
    }
   },
   "outputs": [
    {
     "name": "stdout",
     "output_type": "stream",
     "text": [
      "\n"
     ]
    }
   ],
   "source": [
    "### BEGIN SOLUTION\n",
    "    #TODO: your code\n",
    "variable = \"\"\n",
    "### END SOLUTION\n",
    "print(variable)"
   ]
  },
  {
   "cell_type": "code",
   "execution_count": null,
   "metadata": {
    "nbgrader": {
     "grade": true,
     "grade_id": "cell-236366c29f7cfeac",
     "locked": true,
     "points": 1,
     "schema_version": 3,
     "solution": false,
     "task": false
    }
   },
   "outputs": [],
   "source": [
    "assert variable == \"Hello world!\""
   ]
  },
  {
   "cell_type": "markdown",
   "metadata": {
    "nbgrader": {
     "grade": false,
     "grade_id": "cell-26430f218fee6df2",
     "locked": true,
     "schema_version": 3,
     "solution": false,
     "task": false
    }
   },
   "source": [
    "Was ist wenn wir unser \"Hello world!\" nun aber öfter nutzen wollen und es aber nicht jedes mal ausschreiben wollen? Genau für diesen Fall gibt es Methoden. Methoden erleichtern den Programmierer Altag ungemein, da sie erstens erlauben bereits geschriebenen Code wieder zu benutzen und zweitens den Code auch besser lesbar zu machen. Methoden in Python folgen dem Muster **def methoden_name():**. Alles was daraufhin in den nächsten Zeilen eingerückt geschrieben wird gehört zu dieser Methode. Die Methode könnt ihr dann einfach ausführen indem ihr methoden_name() schreibt. Zum Beispiel ist auch das print das ihr für \"Hello world!\" benutzt habt eine dieser Methoden. Die hat aber freundlicherweise schon mal jemand für euch bereitgestellt. In der nächsten Zeile ist das \"Hello world!\" Programm als Methode implementiert und ihr könnt es durch drücken auf play mal ausführen."
   ]
  },
  {
   "cell_type": "code",
   "execution_count": 6,
   "metadata": {
    "nbgrader": {
     "grade": false,
     "grade_id": "cell-8aee546936b2c18b",
     "locked": true,
     "schema_version": 3,
     "solution": false,
     "task": false
    }
   },
   "outputs": [],
   "source": [
    "#Methode die \"Hello world!\" ausgiebt.\n",
    "def print_hello_world():\n",
    "    print(\"Hello world!\")"
   ]
  },
  {
   "cell_type": "code",
   "execution_count": 7,
   "metadata": {
    "nbgrader": {
     "grade": false,
     "grade_id": "cell-c769c59cc487d853",
     "locked": true,
     "schema_version": 3,
     "solution": false,
     "task": false
    }
   },
   "outputs": [
    {
     "name": "stdout",
     "output_type": "stream",
     "text": [
      "Hello world!\n"
     ]
    }
   ],
   "source": [
    "print_hello_world()"
   ]
  },
  {
   "cell_type": "markdown",
   "metadata": {
    "nbgrader": {
     "grade": false,
     "grade_id": "cell-87cc36297c3581d0",
     "locked": true,
     "schema_version": 3,
     "solution": false,
     "task": false
    }
   },
   "source": [
    "Das ist natürlich nur ein einfaches Beispiel und kann noch beliebig komplex werden. Ihr könnt der Methode auch noch Werte übergeben, die ihr dann als Variablen innerhalb der Methode nutzen könnt. Diese Variablen nennt man dann Übergabeparameter und werden bei der Methodendefinition folgendermaßen deklariert: **def methoden_name( Übergabeparameter)**. Bei mehr als eienm Übergabeparameter teilt ihr diese einfach durch Kommata. Beispielsweise könntet ihr \"Hello world!\" als Übergabeparameter für eure Methode nutzen, um eure print Methode für alle Möglichen Eingaben zu erweitern und so genereller zu gestallten. Schaut euch das nachfolgende Beispiel an und spielt gerne ein bisschen damit herum. Ihr werdet das Gelernte für deie Abschlussfrage brauchen."
   ]
  },
  {
   "cell_type": "code",
   "execution_count": 8,
   "metadata": {
    "nbgrader": {
     "grade": false,
     "grade_id": "cell-ebc810c5398affc5",
     "locked": true,
     "schema_version": 3,
     "solution": false,
     "task": false
    }
   },
   "outputs": [],
   "source": [
    "#Methode die einen Satz druckt der aus den beiden Teilen satzteil1 und satzteil2 besteht.\n",
    "def print_erweitert(satzteil1, satzteil2):\n",
    "    print(satzteil1 + \" \" + satzteil2)"
   ]
  },
  {
   "cell_type": "code",
   "execution_count": 9,
   "metadata": {
    "nbgrader": {
     "grade": false,
     "grade_id": "cell-508f4933f6f769c7",
     "locked": true,
     "schema_version": 3,
     "solution": false,
     "task": false
    }
   },
   "outputs": [
    {
     "name": "stdout",
     "output_type": "stream",
     "text": [
      "Hello world!\n"
     ]
    }
   ],
   "source": [
    "print_erweitert(\"Hello\", \"world!\")"
   ]
  },
  {
   "cell_type": "markdown",
   "metadata": {
    "nbgrader": {
     "grade": false,
     "grade_id": "cell-e17e3f1b5fb417fb",
     "locked": true,
     "schema_version": 3,
     "solution": false,
     "task": false
    }
   },
   "source": [
    "Als finale Lektion für dieses Notebook lernt ihr noch wie eure Methode ein Ergebniss zurückgeben kann. Dies geschieht mit einem return statement innerhalb der Methode. Schaut euch das nachfolgende Beispiel gut an und Versucht daraufhin die Aufgabe 2 zu lösen."
   ]
  },
  {
   "cell_type": "code",
   "execution_count": 11,
   "metadata": {},
   "outputs": [],
   "source": [
    "#Methode die zwei Satzteile, nämlich satzteil1 und satzteil2 zu einem Satz zusammenfügt,\n",
    "#der durch ein Leerzeichen getrennt wird\n",
    "def zusammenfuegen(satzteil1, satzteil2):\n",
    "    return satzteil1 + \" \" + satzteil2"
   ]
  },
  {
   "cell_type": "code",
   "execution_count": 13,
   "metadata": {},
   "outputs": [
    {
     "name": "stdout",
     "output_type": "stream",
     "text": [
      "Hello world!\n"
     ]
    }
   ],
   "source": [
    "zusammengefuegterSatz = zusammenfuegen(\"Hello\", \"world!\")\n",
    "print(zusammengefuegterSatz)"
   ]
  },
  {
   "cell_type": "markdown",
   "metadata": {
    "nbgrader": {
     "grade": false,
     "grade_id": "cell-b78b4fb7ef0391ab",
     "locked": true,
     "schema_version": 3,
     "solution": false,
     "task": false
    }
   },
   "source": [
    "**Aufgabe 2:** Als kleines Beispiel fügen sie hier bitte den Code für eine einfache Addition ein. Zum Beispiel soll als Ergebnis von add(1,1), also 1+1, 2 zurück gegeben werden."
   ]
  },
  {
   "cell_type": "code",
   "execution_count": 2,
   "metadata": {
    "nbgrader": {
     "grade": false,
     "grade_id": "cell-200957a72ade9107",
     "locked": false,
     "schema_version": 3,
     "solution": true,
     "task": false
    }
   },
   "outputs": [
    {
     "ename": "SyntaxError",
     "evalue": "unexpected EOF while parsing (<ipython-input-2-9f1f3005cfed>, line 4)",
     "output_type": "error",
     "traceback": [
      "\u001b[0;36m  File \u001b[0;32m\"<ipython-input-2-9f1f3005cfed>\"\u001b[0;36m, line \u001b[0;32m4\u001b[0m\n\u001b[0;31m    ### END SOLUTION\u001b[0m\n\u001b[0m                    ^\u001b[0m\n\u001b[0;31mSyntaxError\u001b[0m\u001b[0;31m:\u001b[0m unexpected EOF while parsing\n"
     ]
    }
   ],
   "source": [
    "def add(x, y):\n",
    "    ### BEGIN SOLUTION\n",
    "    #TODO: your code\n",
    "    ### END SOLUTION"
   ]
  },
  {
   "cell_type": "code",
   "execution_count": 3,
   "metadata": {
    "nbgrader": {
     "grade": true,
     "grade_id": "cell-c2054285366131a4",
     "locked": true,
     "points": 3,
     "schema_version": 3,
     "solution": false,
     "task": false
    }
   },
   "outputs": [
    {
     "ename": "NameError",
     "evalue": "name 'add' is not defined",
     "output_type": "error",
     "traceback": [
      "\u001b[0;31m---------------------------------------------------------------------------\u001b[0m",
      "\u001b[0;31mNameError\u001b[0m                                 Traceback (most recent call last)",
      "\u001b[0;32m<ipython-input-3-add3a6afb776>\u001b[0m in \u001b[0;36m<module>\u001b[0;34m\u001b[0m\n\u001b[0;32m----> 1\u001b[0;31m \u001b[0;32massert\u001b[0m \u001b[0madd\u001b[0m\u001b[0;34m(\u001b[0m\u001b[0;36m1\u001b[0m\u001b[0;34m,\u001b[0m \u001b[0;36m1\u001b[0m\u001b[0;34m)\u001b[0m \u001b[0;34m==\u001b[0m \u001b[0;36m2\u001b[0m\u001b[0;34m\u001b[0m\u001b[0;34m\u001b[0m\u001b[0m\n\u001b[0m\u001b[1;32m      2\u001b[0m \u001b[0;32massert\u001b[0m \u001b[0madd\u001b[0m\u001b[0;34m(\u001b[0m\u001b[0;36m1\u001b[0m\u001b[0;34m,\u001b[0m \u001b[0;36m0\u001b[0m\u001b[0;34m)\u001b[0m \u001b[0;34m==\u001b[0m \u001b[0;36m1\u001b[0m\u001b[0;34m\u001b[0m\u001b[0;34m\u001b[0m\u001b[0m\n\u001b[1;32m      3\u001b[0m \u001b[0;32massert\u001b[0m \u001b[0madd\u001b[0m\u001b[0;34m(\u001b[0m\u001b[0;36m1\u001b[0m\u001b[0;34m,\u001b[0m \u001b[0;34m-\u001b[0m\u001b[0;36m1\u001b[0m\u001b[0;34m)\u001b[0m \u001b[0;34m==\u001b[0m \u001b[0;36m0\u001b[0m\u001b[0;34m\u001b[0m\u001b[0;34m\u001b[0m\u001b[0m\n",
      "\u001b[0;31mNameError\u001b[0m: name 'add' is not defined"
     ]
    }
   ],
   "source": [
    "assert add(1, 1) == 2\n",
    "assert add(1, 0) == 1\n",
    "assert add(1, -1) == 0"
   ]
  },
  {
   "cell_type": "code",
   "execution_count": null,
   "metadata": {},
   "outputs": [],
   "source": []
  }
 ],
 "metadata": {
  "celltoolbar": "Create Assignment",
  "kernelspec": {
   "display_name": "Python 3",
   "language": "python",
   "name": "python3"
  },
  "language_info": {
   "codemirror_mode": {
    "name": "ipython",
    "version": 3
   },
   "file_extension": ".py",
   "mimetype": "text/x-python",
   "name": "python",
   "nbconvert_exporter": "python",
   "pygments_lexer": "ipython3",
   "version": "3.7.3"
  }
 },
 "nbformat": 4,
 "nbformat_minor": 4
}
